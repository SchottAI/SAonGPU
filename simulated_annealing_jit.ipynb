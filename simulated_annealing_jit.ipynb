{
 "cells": [
  {
   "cell_type": "code",
   "execution_count": null,
   "metadata": {},
   "outputs": [],
   "source": [
    "mode =\"gpu\"  # gpu or cpu"
   ]
  },
  {
   "cell_type": "code",
   "execution_count": 10,
   "metadata": {},
   "outputs": [
    {
     "name": "stderr",
     "output_type": "stream",
     "text": [
      "C:\\Users\\Kleindienst\\AppData\\Local\\Temp\\ipykernel_20304\\14628636.py:7: NumbaDeprecationWarning: \u001b[1mThe 'nopython' keyword argument was not supplied to the 'numba.jit' decorator. The implicit default value for this argument is currently False, but it will be changed to True in Numba 0.59.0. See https://numba.readthedocs.io/en/stable/reference/deprecation.html#deprecation-of-object-mode-fall-back-behaviour-when-using-jit for details.\u001b[0m\n",
      "  def calculate_cost(solution: np.ndarray) -> float:\n",
      "C:\\Users\\Kleindienst\\AppData\\Local\\Temp\\ipykernel_20304\\14628636.py:21: NumbaDeprecationWarning: \u001b[1mThe 'nopython' keyword argument was not supplied to the 'numba.jit' decorator. The implicit default value for this argument is currently False, but it will be changed to True in Numba 0.59.0. See https://numba.readthedocs.io/en/stable/reference/deprecation.html#deprecation-of-object-mode-fall-back-behaviour-when-using-jit for details.\u001b[0m\n",
      "  def update_temperature(current_temperature):\n"
     ]
    }
   ],
   "source": [
    "from numba import jit, cuda\n",
    "import numpy as np\n",
    "from numba import float32\n",
    "\n",
    "\n",
    "@jit\n",
    "def calculate_cost(solution: np.ndarray) -> float:\n",
    "    # Implement your cost function here\n",
    "    # Example: return the squared magnitude of the solution\n",
    "    return np.sum(solution ** 2)\n",
    "\n",
    "@jit\n",
    "def generate_neighbor_cpu(current_solution:np.ndarray):\n",
    "    # Implement neighbor generation based on your problem\n",
    "    # Example: perturb the current solution by adding random noise\n",
    "    perturbation = np.random.randn(*current_solution.shape)\n",
    "    return current_solution + perturbation\n",
    "\n",
    "@cuda.jit\n",
    "def generate_neighbor(current_solution:np.ndarray, random):\n",
    "    # Implement neighbor generation based on your problem\n",
    "    # Example: perturb the current solution by adding random noise\n",
    "    pos = cuda.grid(1)\n",
    "    if pos < current_solution.size:\n",
    "        current_solution[pos] += random\n",
    "\n",
    "@jit\n",
    "def update_temperature(current_temperature):\n",
    "    # Implement your cooling schedule here\n",
    "    # Example: exponential decay\n",
    "    cooling_rate = 0.95\n",
    "    return current_temperature * cooling_rate\n",
    "\n"
   ]
  },
  {
   "cell_type": "code",
   "execution_count": 15,
   "metadata": {},
   "outputs": [],
   "source": [
    "initial_solution = np.random.random(200)"
   ]
  },
  {
   "cell_type": "code",
   "execution_count": 16,
   "metadata": {},
   "outputs": [
    {
     "name": "stderr",
     "output_type": "stream",
     "text": [
      "c:\\Users\\Kleindienst\\Anaconda3\\envs\\prognos\\lib\\site-packages\\numba\\cuda\\cudadrv\\devicearray.py:886: NumbaPerformanceWarning: \u001b[1mHost array used in CUDA kernel will incur copy overhead to/from device.\u001b[0m\n",
      "  warn(NumbaPerformanceWarning(msg))\n"
     ]
    },
    {
     "name": "stdout",
     "output_type": "stream",
     "text": [
      "564 ms ± 46 ms per loop (mean ± std. dev. of 7 runs, 1 loop each)\n"
     ]
    }
   ],
   "source": [
    "%%timeit\n",
    "current_solution = initial_solution\n",
    "current_cost = calculate_cost(current_solution)\n",
    "best_solution = current_solution\n",
    "best_cost = current_cost\n",
    "current_temperature = 10\n",
    "\n",
    "threadsperblock = 32\n",
    "blockspergrid = (current_solution.size + (threadsperblock - 1)) // threadsperblock\n",
    "\n",
    "for iteration in range(1000):\n",
    "    \n",
    "    if mode == \"gpu\":\n",
    "        new_solution = current_solution.copy()\n",
    "        generate_neighbor[blockspergrid,threadsperblock](new_solution, np.random.randn())\n",
    "    else:\n",
    "        new_solution = generate_neighbor_cpu(current_solution)\n",
    "    new_cost = calculate_cost(new_solution)\n",
    "    delta_cost = new_cost - current_cost\n",
    "\n",
    "    if delta_cost < 0 or np.random.random(1) < np.exp(-delta_cost / current_temperature):\n",
    "        current_solution = new_solution\n",
    "        current_cost = new_cost\n",
    "\n",
    "        if new_cost < best_cost:\n",
    "            best_solution = new_solution\n",
    "            best_cost = new_cost\n",
    "\n",
    "    # Update temperature according to the annealing schedule\n",
    "    current_temperature = update_temperature(current_temperature)"
   ]
  },
  {
   "cell_type": "markdown",
   "metadata": {},
   "source": [
    "### Numpy only\n",
    "12.2 ms ± 315 µs per loop (mean ± std. dev. of 7 runs, 100 loops each)\n",
    "### Jit\n",
    "10.5 ms ± 329 µs per loop (mean ± std. dev. of 7 runs, 100 loops each)\n",
    "### Jit on Cuda\n",
    "598 ms ± 15.8 ms per loop (mean ± std. dev. of 7 runs, 1 loop each)\n"
   ]
  },
  {
   "cell_type": "code",
   "execution_count": 1,
   "metadata": {},
   "outputs": [
    {
     "ename": "NameError",
     "evalue": "name 'best_solution' is not defined",
     "output_type": "error",
     "traceback": [
      "\u001b[1;31m---------------------------------------------------------------------------\u001b[0m",
      "\u001b[1;31mNameError\u001b[0m                                 Traceback (most recent call last)",
      "\u001b[1;32mc:\\Users\\Kleindienst\\Documents\\GitProjects\\SAonGPU\\simulated_annealing_jit.ipynb Cell 5\u001b[0m line \u001b[0;36m1\n\u001b[1;32m----> <a href='vscode-notebook-cell:/c%3A/Users/Kleindienst/Documents/GitProjects/SAonGPU/simulated_annealing_jit.ipynb#W4sZmlsZQ%3D%3D?line=0'>1</a>\u001b[0m best_solution\n",
      "\u001b[1;31mNameError\u001b[0m: name 'best_solution' is not defined"
     ]
    }
   ],
   "source": [
    "best_solution"
   ]
  }
 ],
 "metadata": {
  "kernelspec": {
   "display_name": "prognos",
   "language": "python",
   "name": "python3"
  },
  "language_info": {
   "codemirror_mode": {
    "name": "ipython",
    "version": 3
   },
   "file_extension": ".py",
   "mimetype": "text/x-python",
   "name": "python",
   "nbconvert_exporter": "python",
   "pygments_lexer": "ipython3",
   "version": "3.10.11"
  },
  "orig_nbformat": 4
 },
 "nbformat": 4,
 "nbformat_minor": 2
}
