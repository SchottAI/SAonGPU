{
 "cells": [
  {
   "cell_type": "code",
   "execution_count": 4,
   "metadata": {},
   "outputs": [],
   "source": [
    "import torch"
   ]
  },
  {
   "cell_type": "code",
   "execution_count": 5,
   "metadata": {},
   "outputs": [
    {
     "data": {
      "text/plain": [
       "True"
      ]
     },
     "execution_count": 5,
     "metadata": {},
     "output_type": "execute_result"
    }
   ],
   "source": [
    "# If False pytorch has no access to your GPU\n",
    "torch.cuda.is_available() and torch.cuda.device_count() > 0"
   ]
  },
  {
   "cell_type": "code",
   "execution_count": 6,
   "metadata": {},
   "outputs": [],
   "source": [
    "initial_solution = torch.rand(20).to('cuda')"
   ]
  },
  {
   "cell_type": "code",
   "execution_count": 7,
   "metadata": {},
   "outputs": [],
   "source": [
    "def calculate_cost(solution):\n",
    "    # Implement your cost function here\n",
    "    # Example: return the squared magnitude of the solution\n",
    "    return torch.sum(solution ** 2)"
   ]
  },
  {
   "cell_type": "code",
   "execution_count": 8,
   "metadata": {},
   "outputs": [],
   "source": [
    "def generate_neighbor(current_solution):\n",
    "    # Implement neighbor generation based on your problem\n",
    "    # Example: perturb the current solution by adding random noise\n",
    "    perturbation = torch.randn_like(current_solution).to('cuda')\n",
    "    neighbor = current_solution + perturbation\n",
    "    return neighbor"
   ]
  },
  {
   "cell_type": "code",
   "execution_count": 9,
   "metadata": {},
   "outputs": [],
   "source": [
    "def update_temperature(current_temperature):\n",
    "    # Implement your cooling schedule here\n",
    "    # Example: exponential decay\n",
    "    cooling_rate = 0.95\n",
    "    return current_temperature * cooling_rate"
   ]
  },
  {
   "cell_type": "code",
   "execution_count": 11,
   "metadata": {},
   "outputs": [],
   "source": [
    "current_solution = initial_solution\n",
    "current_cost = calculate_cost(current_solution)\n",
    "best_solution = current_solution\n",
    "best_cost = current_cost\n",
    "current_temperature = 10\n",
    "\n",
    "for iteration in range(100):\n",
    "    new_solution = generate_neighbor(current_solution)\n",
    "    new_cost = calculate_cost(new_solution)\n",
    "    delta_cost = new_cost - current_cost\n",
    "\n",
    "    if delta_cost < 0 or torch.rand(1).to('cuda') < torch.exp(-delta_cost / current_temperature):\n",
    "        current_solution = new_solution\n",
    "        current_cost = new_cost\n",
    "\n",
    "        if new_cost < best_cost:\n",
    "            best_solution = new_solution\n",
    "            best_cost = new_cost\n",
    "\n",
    "    # Update temperature according to the annealing schedule\n",
    "    current_temperature = update_temperature(current_temperature)\n",
    "\n",
    "# The best_solution contains the optimized solution"
   ]
  },
  {
   "cell_type": "code",
   "execution_count": 12,
   "metadata": {},
   "outputs": [],
   "source": [
    "best_solution = best_solution.to('cpu')"
   ]
  },
  {
   "cell_type": "code",
   "execution_count": 13,
   "metadata": {},
   "outputs": [],
   "source": [
    "del initial_solution, current_solution, new_solution"
   ]
  },
  {
   "cell_type": "code",
   "execution_count": 14,
   "metadata": {},
   "outputs": [
    {
     "data": {
      "text/plain": [
       "tensor([0.1599, 0.4080, 0.6467, 0.7740, 0.9089, 0.7852, 0.7773, 0.8267, 0.6635,\n",
       "        0.3375, 0.3771, 0.2081, 0.1009, 0.0429, 0.3159, 0.5448, 0.2489, 0.8799,\n",
       "        0.6320, 0.0890])"
      ]
     },
     "execution_count": 14,
     "metadata": {},
     "output_type": "execute_result"
    }
   ],
   "source": [
    "best_solution"
   ]
  }
 ],
 "metadata": {
  "kernelspec": {
   "display_name": "prognos",
   "language": "python",
   "name": "python3"
  },
  "language_info": {
   "codemirror_mode": {
    "name": "ipython",
    "version": 3
   },
   "file_extension": ".py",
   "mimetype": "text/x-python",
   "name": "python",
   "nbconvert_exporter": "python",
   "pygments_lexer": "ipython3",
   "version": "3.10.11"
  },
  "orig_nbformat": 4
 },
 "nbformat": 4,
 "nbformat_minor": 2
}
