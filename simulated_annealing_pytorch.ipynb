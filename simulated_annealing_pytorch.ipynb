{
 "cells": [
  {
   "cell_type": "code",
   "execution_count": 63,
   "metadata": {},
   "outputs": [],
   "source": [
    "import torch\n",
    "from timeit import default_timer as timer"
   ]
  },
  {
   "cell_type": "code",
   "execution_count": 64,
   "metadata": {},
   "outputs": [
    {
     "data": {
      "text/plain": [
       "True"
      ]
     },
     "execution_count": 64,
     "metadata": {},
     "output_type": "execute_result"
    }
   ],
   "source": [
    "# If False pytorch has no access to your GPU\n",
    "torch.cuda.is_available() and torch.cuda.device_count() > 0"
   ]
  },
  {
   "cell_type": "code",
   "execution_count": 65,
   "metadata": {},
   "outputs": [],
   "source": [
    "target = \"cuda\""
   ]
  },
  {
   "cell_type": "code",
   "execution_count": 66,
   "metadata": {},
   "outputs": [],
   "source": [
    "initial_solution = torch.rand(20)"
   ]
  },
  {
   "cell_type": "code",
   "execution_count": 67,
   "metadata": {},
   "outputs": [],
   "source": [
    "def calculate_cost(solution):\n",
    "    # Implement your cost function here\n",
    "    # Example: return the squared magnitude of the solution\n",
    "    return torch.sum(solution ** 2)"
   ]
  },
  {
   "cell_type": "code",
   "execution_count": 68,
   "metadata": {},
   "outputs": [],
   "source": [
    "def generate_neighbor(current_solution,target):\n",
    "    # Implement neighbor generation based on your problem\n",
    "    # Example: perturb the current solution by adding random noise\n",
    "    perturbation = torch.randn_like(current_solution).to(target)\n",
    "    neighbor = current_solution + perturbation\n",
    "    return neighbor"
   ]
  },
  {
   "cell_type": "code",
   "execution_count": 69,
   "metadata": {},
   "outputs": [],
   "source": [
    "def update_temperature(current_temperature):\n",
    "    # Implement your cooling schedule here\n",
    "    # Example: exponential decay\n",
    "    cooling_rate = 0.95\n",
    "    return current_temperature * cooling_rate"
   ]
  },
  {
   "cell_type": "code",
   "execution_count": 70,
   "metadata": {},
   "outputs": [],
   "source": [
    "def calc_solution(initial_solution,target):\n",
    "    current_solution = initial_solution.to(target)\n",
    "    current_cost = calculate_cost(current_solution)\n",
    "    best_solution = current_solution\n",
    "    best_cost = current_cost\n",
    "    current_temperature = 10\n",
    "\n",
    "    for iteration in range(100):\n",
    "        new_solution = generate_neighbor(current_solution,target)\n",
    "        new_cost = calculate_cost(new_solution)\n",
    "        delta_cost = new_cost - current_cost\n",
    "\n",
    "        if delta_cost < 0 or torch.rand(1).to(target) < torch.exp(-delta_cost / current_temperature):\n",
    "            current_solution = new_solution\n",
    "            current_cost = new_cost\n",
    "\n",
    "            if new_cost < best_cost:\n",
    "                best_solution = new_solution\n",
    "                best_cost = new_cost\n",
    "\n",
    "        # Update temperature according to the annealing schedule\n",
    "        current_temperature = update_temperature(current_temperature)\n",
    "\n",
    "    # The best_solution contains the optimized solution\n",
    "    del initial_solution, current_solution, new_solution\n",
    "    return best_solution"
   ]
  },
  {
   "cell_type": "code",
   "execution_count": 71,
   "metadata": {},
   "outputs": [
    {
     "name": "stdout",
     "output_type": "stream",
     "text": [
      "30.8 ms ± 2.43 ms per loop (mean ± std. dev. of 7 runs, 10 loops each)\n"
     ]
    }
   ],
   "source": [
    "%%timeit\n",
    "best_solution = calc_solution(initial_solution, \"cuda\")"
   ]
  },
  {
   "cell_type": "code",
   "execution_count": 73,
   "metadata": {},
   "outputs": [
    {
     "name": "stdout",
     "output_type": "stream",
     "text": [
      "5.3 ms ± 50.8 µs per loop (mean ± std. dev. of 7 runs, 100 loops each)\n"
     ]
    }
   ],
   "source": [
    "%%timeit\n",
    "best_solution = calc_solution(initial_solution, \"cpu\")"
   ]
  },
  {
   "cell_type": "code",
   "execution_count": 75,
   "metadata": {},
   "outputs": [],
   "source": [
    "best_solution = calc_solution(initial_solution, \"cuda\").to('cpu')"
   ]
  },
  {
   "cell_type": "code",
   "execution_count": 76,
   "metadata": {},
   "outputs": [
    {
     "data": {
      "text/plain": [
       "tensor([0.5278, 0.7646, 0.3547, 0.5148, 0.6517, 0.6759, 0.0379, 0.1259, 0.2938,\n",
       "        0.8681, 0.2359, 0.8354, 0.7280, 0.2047, 0.3082, 0.3361, 0.2581, 0.9345,\n",
       "        0.0874, 0.2720])"
      ]
     },
     "execution_count": 76,
     "metadata": {},
     "output_type": "execute_result"
    }
   ],
   "source": [
    "best_solution"
   ]
  }
 ],
 "metadata": {
  "kernelspec": {
   "display_name": "prognos",
   "language": "python",
   "name": "python3"
  },
  "language_info": {
   "codemirror_mode": {
    "name": "ipython",
    "version": 3
   },
   "file_extension": ".py",
   "mimetype": "text/x-python",
   "name": "python",
   "nbconvert_exporter": "python",
   "pygments_lexer": "ipython3",
   "version": "3.10.11"
  },
  "orig_nbformat": 4
 },
 "nbformat": 4,
 "nbformat_minor": 2
}
